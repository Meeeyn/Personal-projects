{
 "cells": [
  {
   "cell_type": "markdown",
   "id": "ed06d5e2",
   "metadata": {},
   "source": [
    "# Clean & Analyze Social Media"
   ]
  },
  {
   "cell_type": "markdown",
   "id": "d69ed946",
   "metadata": {},
   "source": [
    "## Introduction\n",
    "\n",
    "Social media has become a ubiquitous part of modern life, with platforms such as Instagram, Twitter, and Facebook serving as essential communication channels. Social media data sets are vast and complex, making analysis a challenging task for businesses and researchers alike. In this project, we explore a simulated social media, for example Tweets, data set to understand trends in likes across different categories.\n",
    "\n",
    "## Project Scope\n",
    "\n",
    "The objective of this project is to analyze tweets (or other social media data) and gain insights into user engagement. We will explore the data set using visualization techniques to understand the distribution of likes across different categories. Finally, we will analyze the data to draw conclusions about the most popular categories and the overall engagement on the platform.\n",
    "\n",
    "## Step 1: Importing Required Libraries\n",
    "\n",
    "As the name suggests, the first step is to import all the necessary libraries that will be used in the project. In this case, we need pandas, numpy, matplotlib, seaborn, and random libraries.\n",
    "\n",
    "Pandas is a library used for data manipulation and analysis. Numpy is a library used for numerical computations. Matplotlib is a library used for data visualization. Seaborn is a library used for statistical data visualization. Random is a library used to generate random numbers."
   ]
  },
  {
   "cell_type": "code",
   "execution_count": 4,
   "id": "e0d4a3cf",
   "metadata": {},
   "outputs": [],
   "source": [
    "import pandas as pd # for creating dataframes\n",
    "import numpy as np # for generating random numbers\n",
    "import matplotlib.pyplot as plt # For plotting graphs\n",
    "import seaborn as sns # For advanced statistical plots\n",
    "import random # for generating random choices\n",
    "%matplotlib inline"
   ]
  },
  {
   "cell_type": "markdown",
   "id": "4f593023",
   "metadata": {},
   "source": [
    "## Step 2: Generating random data for the social media data\n",
    "\n",
    "Create a synthetic dataset for analysis, including fields for Date, Category, and Likes."
   ]
  },
  {
   "cell_type": "markdown",
   "id": "c2de6b38",
   "metadata": {},
   "source": [
    "We first define a list of categories for the social media experiment."
   ]
  },
  {
   "cell_type": "code",
   "execution_count": 5,
   "id": "fa2e96e5",
   "metadata": {},
   "outputs": [],
   "source": [
    "categories = ['Food', 'Travel', 'Fashion', 'Fitness', 'Music', 'Culture', 'Family', 'Health']"
   ]
  },
  {
   "cell_type": "markdown",
   "id": "662aa84e",
   "metadata": {},
   "source": [
    "We then generate random dates using pandas to create a range of dates."
   ]
  },
  {
   "cell_type": "code",
   "execution_count": 6,
   "id": "eb147aec",
   "metadata": {},
   "outputs": [],
   "source": [
    "n = 500 # number of entries\n",
    "dates = pd.date_range(start='2024-01-01', periods=n)"
   ]
  },
  {
   "cell_type": "markdown",
   "id": "94746893",
   "metadata": {},
   "source": [
    "We also generate random categories for each entry."
   ]
  },
  {
   "cell_type": "code",
   "execution_count": 7,
   "id": "463c97ee",
   "metadata": {},
   "outputs": [],
   "source": [
    "random_categories = [random.choice(categories) for _ in range(n)]"
   ]
  },
  {
   "cell_type": "markdown",
   "id": "30326fa0",
   "metadata": {},
   "source": [
    "and we generate random integers for the number of likes between 0 to 10,000."
   ]
  },
  {
   "cell_type": "code",
   "execution_count": 8,
   "id": "4ac4b3de",
   "metadata": {},
   "outputs": [],
   "source": [
    "random_likes = np.random.randint(0, 10000, size=n)"
   ]
  },
  {
   "cell_type": "markdown",
   "id": "f991c3c8",
   "metadata": {},
   "source": [
    "We finally combine the generated data to create data dictionary."
   ]
  },
  {
   "cell_type": "code",
   "execution_count": 9,
   "id": "ba7551bb",
   "metadata": {},
   "outputs": [],
   "source": [
    "data = { \n",
    "    'Date':dates,\n",
    "    'Category': random_categories,\n",
    "    'Likes': random_likes\n",
    "}"
   ]
  },
  {
   "cell_type": "markdown",
   "id": "c0d17a17",
   "metadata": {},
   "source": [
    "## Step 3: Loading the Data into a Pandas DataFrame and Exploring the Data\n",
    "\n",
    "Now that we have our data generated, the next step is to load it into a Pandas DataFrame and perform some basic exploratory data analysis.\n",
    "\n",
    "We convert our data dictionary into a Pandas DataFrame."
   ]
  },
  {
   "cell_type": "code",
   "execution_count": 10,
   "id": "9eb716fb",
   "metadata": {},
   "outputs": [],
   "source": [
    "df = pd.DataFrame(data) "
   ]
  },
  {
   "cell_type": "markdown",
   "id": "f872fb8f",
   "metadata": {},
   "source": [
    "Using 'df.head( )', we preview the first few rows of the DataFrame. This initial look helps verify that the data has been loaded correctly and gives a glimpse of its structure.\n",
    "python\n"
   ]
  },
  {
   "cell_type": "code",
   "execution_count": 11,
   "id": "ba928acb",
   "metadata": {},
   "outputs": [
    {
     "name": "stdout",
     "output_type": "stream",
     "text": [
      "        Date Category  Likes\n",
      "0 2024-01-01  Fashion   3715\n",
      "1 2024-01-02     Food   4222\n",
      "2 2024-01-03  Culture    889\n",
      "3 2024-01-04  Fashion   4693\n",
      "4 2024-01-05  Fashion    619\n"
     ]
    }
   ],
   "source": [
    "print(df.head())"
   ]
  },
  {
   "cell_type": "markdown",
   "id": "2aa2b5d8",
   "metadata": {},
   "source": [
    "We use 'df.info( )' to provide a summary of the DataFrame, including the count of non-null entries and the data types of each column. This step is crucial for identifying any missing values or inconsistencies in data types."
   ]
  },
  {
   "cell_type": "code",
   "execution_count": 12,
   "id": "81dafb64",
   "metadata": {},
   "outputs": [
    {
     "name": "stdout",
     "output_type": "stream",
     "text": [
      "<class 'pandas.core.frame.DataFrame'>\n",
      "RangeIndex: 500 entries, 0 to 499\n",
      "Data columns (total 3 columns):\n",
      " #   Column    Non-Null Count  Dtype         \n",
      "---  ------    --------------  -----         \n",
      " 0   Date      500 non-null    datetime64[ns]\n",
      " 1   Category  500 non-null    object        \n",
      " 2   Likes     500 non-null    int32         \n",
      "dtypes: datetime64[ns](1), int32(1), object(1)\n",
      "memory usage: 9.9+ KB\n",
      "None\n"
     ]
    }
   ],
   "source": [
    "print(df.info())"
   ]
  },
  {
   "cell_type": "markdown",
   "id": "ef144255",
   "metadata": {},
   "source": [
    "We also obtain descriptive statistics for the numerical columns using 'df.describe( )'. This includes metrics such as mean, standard deviation, and range, which are essential for understanding the distribution and spread of your data."
   ]
  },
  {
   "cell_type": "code",
   "execution_count": 13,
   "id": "bd8424a2",
   "metadata": {},
   "outputs": [
    {
     "name": "stdout",
     "output_type": "stream",
     "text": [
      "             Likes\n",
      "count   500.000000\n",
      "mean   5053.018000\n",
      "std    2894.668492\n",
      "min       5.000000\n",
      "25%    2563.000000\n",
      "50%    5142.500000\n",
      "75%    7562.500000\n",
      "max    9991.000000\n"
     ]
    }
   ],
   "source": [
    "print(df.describe())"
   ]
  },
  {
   "cell_type": "markdown",
   "id": "b3ff804d",
   "metadata": {},
   "source": [
    "Finally, we print the count for each category using the 'value_counts( )'. This information is valuable for analyzing category distribution and ensuring that your dataset is representative of the various categories.\n",
    "\n"
   ]
  },
  {
   "cell_type": "code",
   "execution_count": 14,
   "id": "7e7fd9f8",
   "metadata": {},
   "outputs": [
    {
     "name": "stdout",
     "output_type": "stream",
     "text": [
      "Fashion    77\n",
      "Health     68\n",
      "Family     68\n",
      "Culture    63\n",
      "Travel     63\n",
      "Music      62\n",
      "Fitness    50\n",
      "Food       49\n",
      "Name: Category, dtype: int64\n"
     ]
    }
   ],
   "source": [
    "print(df['Category'].value_counts())"
   ]
  },
  {
   "cell_type": "markdown",
   "id": "0c985228",
   "metadata": {},
   "source": [
    "## Cleaning the Data\n",
    "\n",
    "Now that we have our data, it’s essential to clean it to ensure our analysis is accurate. Removing invalid or irrelevant data points helps us perform effective statistics and create meaningful visualizations. Fortunately, the pandas DataFrame has built-in tools to simplify this data cleaning process.\n",
    "\n",
    "First, we need to clean up any rows with missing values. This will prevent errors and inconsistencies in our analysis."
   ]
  },
  {
   "cell_type": "code",
   "execution_count": 15,
   "id": "2f320dcb",
   "metadata": {},
   "outputs": [],
   "source": [
    "df = df.dropna()"
   ]
  },
  {
   "cell_type": "markdown",
   "id": "88449551",
   "metadata": {},
   "source": [
    "Next, we eliminate any duplicate rows. Duplicate data can skew our analysis and lead to incorrect conclusions"
   ]
  },
  {
   "cell_type": "code",
   "execution_count": 16,
   "id": "e6bfd198",
   "metadata": {},
   "outputs": [],
   "source": [
    "df = df.drop_duplicates()"
   ]
  },
  {
   "cell_type": "markdown",
   "id": "0767335e",
   "metadata": {},
   "source": [
    "To appropriately display the data field, we convert the 'Date' column to the datetime format using the pandas object."
   ]
  },
  {
   "cell_type": "code",
   "execution_count": 17,
   "id": "206c47fd",
   "metadata": {},
   "outputs": [],
   "source": [
    "df['Date'] = pd.to_datetime(df['Date'])"
   ]
  },
  {
   "cell_type": "markdown",
   "id": "2b771041",
   "metadata": {},
   "source": [
    "We also ensure the 'Likes' column is in integer format. This conversion is necessary for numerical computations and visualizations."
   ]
  },
  {
   "cell_type": "code",
   "execution_count": 18,
   "id": "c98a9e47",
   "metadata": {},
   "outputs": [],
   "source": [
    "df['Likes'] = df['Likes'].astype(int)"
   ]
  },
  {
   "cell_type": "markdown",
   "id": "18f28ca8",
   "metadata": {},
   "source": [
    "We display the cleaned DataFrame to verify changes."
   ]
  },
  {
   "cell_type": "code",
   "execution_count": 19,
   "id": "e95d5dbd",
   "metadata": {},
   "outputs": [
    {
     "name": "stdout",
     "output_type": "stream",
     "text": [
      "Cleaned DataFrame:\n",
      "        Date Category  Likes\n",
      "0 2024-01-01  Fashion   3715\n",
      "1 2024-01-02     Food   4222\n",
      "2 2024-01-03  Culture    889\n",
      "3 2024-01-04  Fashion   4693\n",
      "4 2024-01-05  Fashion    619\n"
     ]
    }
   ],
   "source": [
    "print(\"Cleaned DataFrame:\")\n",
    "print(df.head())"
   ]
  },
  {
   "cell_type": "code",
   "execution_count": 20,
   "id": "67ca9048",
   "metadata": {},
   "outputs": [
    {
     "name": "stdout",
     "output_type": "stream",
     "text": [
      "0.12.2\n"
     ]
    }
   ],
   "source": [
    "print(sns.__version__)"
   ]
  },
  {
   "cell_type": "markdown",
   "id": "3b076fb7",
   "metadata": {},
   "source": [
    "## Visualizing and Analyzing the Data\n",
    "\n",
    "Now that our data is clean, it’s time to visualize and analyze it. This helps us understand trends and gain insights."
   ]
  },
  {
   "cell_type": "markdown",
   "id": "dfed59c5",
   "metadata": {},
   "source": [
    "We visualize the data using the seaborn module in a histogram plot of the Likes to see how likes are spread out. This will help us understand the distribution of likes across all entries. This is accomplished using the method histplot, passing in the dataframe field ‘Likes’ as in df[‘Likes’]."
   ]
  },
  {
   "cell_type": "code",
   "execution_count": 25,
   "id": "96d35098",
   "metadata": {},
   "outputs": [
    {
     "data": {
      "image/png": "[encoded data removed]",
      "text/plain": [
       "<Figure size 640x480 with 1 Axes>"
      ]
     },
     "metadata": {},
     "output_type": "display_data"
    }
   ],
   "source": [
    "sns.histplot(df['Likes'])\n",
    "plt.title('Distribution of Likes')\n",
    "plt.xlabel('Likes')\n",
    "plt.ylabel('Count')\n",
    "plt.show()"
   ]
  },
  {
   "cell_type": "markdown",
   "id": "c0bb790b",
   "metadata": {},
   "source": [
    "We also make a boxplot to compare likes across different categories. This will show us how likes vary between categories and highlight any outliers."
   ]
  },
  {
   "cell_type": "code",
   "execution_count": 26,
   "id": "3dfe847e",
   "metadata": {},
   "outputs": [
    {
     "data": {
      "image/png": "[encoded data removed]",
      "text/plain": [
       "<Figure size 640x480 with 1 Axes>"
      ]
     },
     "metadata": {},
     "output_type": "display_data"
    }
   ],
   "source": [
    "sns.boxplot(x='Category', y='Likes', data=df)\n",
    "plt.title('Likes by Category')\n",
    "plt.xlabel('Category')\n",
    "plt.ylabel('Likes')\n",
    "plt.show()"
   ]
  },
  {
   "cell_type": "markdown",
   "id": "b53b5146",
   "metadata": {},
   "source": [
    "Finally, we perform some basic statistics:\n",
    "\n",
    "1. Mean Likes: Find out the average number of likes across all posts."
   ]
  },
  {
   "cell_type": "code",
   "execution_count": 23,
   "id": "e33f1d1a",
   "metadata": {},
   "outputs": [
    {
     "name": "stdout",
     "output_type": "stream",
     "text": [
      "Average Likes: 5053.018\n"
     ]
    }
   ],
   "source": [
    "mean_likes = df['Likes'].mean()\n",
    "print(f\"Average Likes: {mean_likes}\")"
   ]
  },
  {
   "cell_type": "markdown",
   "id": "24cf25d9",
   "metadata": {},
   "source": [
    "2. Mean Likes by Category: Get the average likes for each category to see which ones are performing better."
   ]
  },
  {
   "cell_type": "code",
   "execution_count": 24,
   "id": "5dff9d2c",
   "metadata": {},
   "outputs": [
    {
     "name": "stdout",
     "output_type": "stream",
     "text": [
      "Average Likes by Category:\n",
      "Category\n",
      "Culture    5503.031746\n",
      "Family     5296.794118\n",
      "Fashion    5146.246753\n",
      "Fitness    5109.440000\n",
      "Food       5200.489796\n",
      "Health     4488.852941\n",
      "Music      4629.338710\n",
      "Travel     5092.349206\n",
      "Name: Likes, dtype: float64\n"
     ]
    }
   ],
   "source": [
    "mean_likes_by_category = df.groupby('Category')['Likes'].mean()\n",
    "print(\"Average Likes by Category:\")\n",
    "print(mean_likes_by_category)"
   ]
  },
  {
   "cell_type": "markdown",
   "id": "e1ccbe45",
   "metadata": {},
   "source": [
    "## Conclusion\n",
    "\n",
    "### Process Overview\n",
    "\n",
    "In this project, we analyzed a simulated social media dataset to understand user engagement through the distribution of likes across different categories. The project involved several key steps:\n",
    "\n",
    "1. __Importing Required Libraries:__ We started by importing essential Python libraries such as pandas, numpy, matplotlib, seaborn, and random, which provided us with the tools for data manipulation, numerical computations, and visualization.\n",
    "\n",
    "2.  __Generating Random Data:__ We created a synthetic dataset of 500 entries, including random dates, categories, and likes. This simulated real-world social media data and ensured a diverse and representative dataset for analysis.\n",
    "\n",
    "3. __Loading and Exploring the Data:__ We loaded the generated data into a Pandas DataFrame and performed exploratory data analysis. This included previewing the first few rows, summarizing the data, obtaining descriptive statistics, and analyzing category distribution.\n",
    "\n",
    "4. __Cleaning the Data:__ We cleaned the dataset by removing any missing values and duplicate rows. We also ensured the 'Date' column was in datetime format and the 'Likes' column was in integer format.\n",
    "\n",
    "5. __Visualizing the Data:__ We used seaborn to create visualizations, including a histogram plot to show the distribution of likes and a boxplot to compare likes across different categories. \n",
    "6. __Performing Basic Statistics:__ We calculated the average number of likes across all posts and the average likes for each category."
   ]
  },
  {
   "cell_type": "markdown",
   "id": "c13678e9",
   "metadata": {},
   "source": [
    "### Key Findings\n",
    "\n",
    "1. __Likes Distribution:__ The histogram plot revealed that likes are relatively evenly distributed across the range, with no extreme outliers. Most posts received between 2,000 and 8,000 likes, indicating a moderate level of engagement.\n",
    "\n",
    "2. __Category Comparison:__ The boxplot showed that while most categories have a similar range of likes, there are noticeable variations. For example, the 'Family' and 'Culture' categories have a slightly higher median number of likes compared to others.\n",
    "\n",
    "3. __Average Likes:__ The overall average number of likes was calculated to be around 5,000. However, the average likes varied by category, with 'Family' and 'Culture' categories performing better than others."
   ]
  }
 ],
 "metadata": {
  "kernelspec": {
   "display_name": "Python 3 (ipykernel)",
   "language": "python",
   "name": "python3"
  },
  "language_info": {
   "codemirror_mode": {
    "name": "ipython",
    "version": 3
   },
   "file_extension": ".py",
   "mimetype": "text/x-python",
   "name": "python",
   "nbconvert_exporter": "python",
   "pygments_lexer": "ipython3",
   "version": "3.11.4"
  }
 },
 "nbformat": 4,
 "nbformat_minor": 5
}
